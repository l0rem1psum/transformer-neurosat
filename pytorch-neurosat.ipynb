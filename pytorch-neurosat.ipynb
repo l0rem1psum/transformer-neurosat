{
 "cells": [
  {
   "cell_type": "code",
   "execution_count": 1,
   "metadata": {},
   "outputs": [],
   "source": [
    "import torch\n",
    "import math\n",
    "from dataset import SatProblemDataSet\n",
    "from models import MLP, LayerNormBasicLSTMCell, NeuroSAT\n",
    "# torch.set_default_tensor_type('torch.cuda.FloatTensor')"
   ]
  },
  {
   "cell_type": "code",
   "execution_count": 2,
   "metadata": {},
   "outputs": [],
   "source": [
    "def compute_loss(logits, labels, parameters):\n",
    "    # x = logits, z = labels\n",
    "    # max(x, 0) - x * z + log(1 + exp(-abs(x)))\n",
    "    predict_costs = torch.nn.functional.relu(logits) - logits * labels + torch.log1p(torch.exp(-torch.abs(logits)))\n",
    "    predict_cost = torch.mean(predict_costs)\n",
    "    l2_cost = torch.zeros([])\n",
    "    for p in parameters:\n",
    "        l2_cost += torch.sum(p ** 2) / 2\n",
    "    return predict_cost + 1e-9 * l2_cost"
   ]
  },
  {
   "cell_type": "code",
   "execution_count": 3,
   "metadata": {},
   "outputs": [],
   "source": [
    "n = NeuroSAT(5, 3, 3, 128)"
   ]
  },
  {
   "cell_type": "code",
   "execution_count": 4,
   "metadata": {},
   "outputs": [],
   "source": [
    "ds = SatProblemDataSet(\"data\")\n",
    "dl = torch.utils.data.DataLoader(ds)"
   ]
  },
  {
   "cell_type": "code",
   "execution_count": 5,
   "metadata": {
    "scrolled": true
   },
   "outputs": [],
   "source": [
    "optim = torch.optim.Adam(n.parameters(), lr = 1e-5, weight_decay = 1e-10)"
   ]
  },
  {
   "cell_type": "code",
   "execution_count": null,
   "metadata": {
    "scrolled": true
   },
   "outputs": [
    {
     "name": "stdout",
     "output_type": "stream",
     "text": [
      "tensor([0.0011], grad_fn=<AddBackward0>) tensor([0.])\n",
      "loss: 0.6937; is_sta: tensor([0.])\n",
      "tensor([0.0011], grad_fn=<AddBackward0>) tensor([1.])\n",
      "loss: 0.6926; is_sta: tensor([1.])\n",
      "tensor([0.0010], grad_fn=<AddBackward0>) tensor([0.])\n",
      "loss: 0.6937; is_sta: tensor([0.])\n",
      "tensor([0.0010], grad_fn=<AddBackward0>) tensor([1.])\n",
      "loss: 0.6926; is_sta: tensor([1.])\n",
      "tensor([0.0012], grad_fn=<AddBackward0>) tensor([0.])\n",
      "loss: 0.6937; is_sta: tensor([0.])\n",
      "tensor([0.0011], grad_fn=<AddBackward0>) tensor([1.])\n",
      "loss: 0.6926; is_sta: tensor([1.])\n",
      "tensor([0.0010], grad_fn=<AddBackward0>) tensor([0.])\n",
      "loss: 0.6937; is_sta: tensor([0.])\n",
      "tensor([0.0010], grad_fn=<AddBackward0>) tensor([1.])\n",
      "loss: 0.6926; is_sta: tensor([1.])\n",
      "tensor([0.0010], grad_fn=<AddBackward0>) tensor([0.])\n",
      "loss: 0.6936; is_sta: tensor([0.])\n",
      "tensor([0.0010], grad_fn=<AddBackward0>) tensor([1.])\n",
      "loss: 0.6927; is_sta: tensor([1.])\n",
      "tensor([0.0010], grad_fn=<AddBackward0>) tensor([0.])\n",
      "loss: 0.6937; is_sta: tensor([0.])\n",
      "tensor([0.0010], grad_fn=<AddBackward0>) tensor([1.])\n",
      "loss: 0.6926; is_sta: tensor([1.])\n",
      "tensor([0.0010], grad_fn=<AddBackward0>) tensor([0.])\n",
      "loss: 0.6937; is_sta: tensor([0.])\n",
      "tensor([0.0010], grad_fn=<AddBackward0>) tensor([1.])\n",
      "loss: 0.6926; is_sta: tensor([1.])\n",
      "tensor([0.0010], grad_fn=<AddBackward0>) tensor([0.])\n",
      "loss: 0.6937; is_sta: tensor([0.])\n",
      "tensor([0.0010], grad_fn=<AddBackward0>) tensor([1.])\n",
      "loss: 0.6926; is_sta: tensor([1.])\n",
      "tensor([0.0010], grad_fn=<AddBackward0>) tensor([0.])\n",
      "loss: 0.6937; is_sta: tensor([0.])\n",
      "tensor([0.0010], grad_fn=<AddBackward0>) tensor([1.])\n",
      "loss: 0.6926; is_sta: tensor([1.])\n",
      "tensor([0.0010], grad_fn=<AddBackward0>) tensor([0.])\n",
      "loss: 0.6937; is_sta: tensor([0.])\n",
      "tensor([0.0010], grad_fn=<AddBackward0>) tensor([1.])\n",
      "loss: 0.6926; is_sta: tensor([1.])\n",
      "tensor([0.0010], grad_fn=<AddBackward0>) tensor([0.])\n",
      "loss: 0.6937; is_sta: tensor([0.])\n",
      "tensor([0.0010], grad_fn=<AddBackward0>) tensor([1.])\n",
      "loss: 0.6926; is_sta: tensor([1.])\n",
      "tensor([0.0010], grad_fn=<AddBackward0>) tensor([0.])\n",
      "loss: 0.6936; is_sta: tensor([0.])\n",
      "tensor([0.0010], grad_fn=<AddBackward0>) tensor([1.])\n",
      "loss: 0.6927; is_sta: tensor([1.])\n",
      "tensor([0.0010], grad_fn=<AddBackward0>) tensor([0.])\n",
      "loss: 0.6937; is_sta: tensor([0.])\n",
      "tensor([0.0010], grad_fn=<AddBackward0>) tensor([1.])\n",
      "loss: 0.6926; is_sta: tensor([1.])\n",
      "tensor([0.0011], grad_fn=<AddBackward0>) tensor([0.])\n",
      "loss: 0.6937; is_sta: tensor([0.])\n",
      "tensor([0.0011], grad_fn=<AddBackward0>) tensor([1.])\n",
      "loss: 0.6926; is_sta: tensor([1.])\n",
      "tensor([0.0011], grad_fn=<AddBackward0>) tensor([0.])\n",
      "loss: 0.6937; is_sta: tensor([0.])\n",
      "tensor([0.0011], grad_fn=<AddBackward0>) tensor([1.])\n",
      "loss: 0.6926; is_sta: tensor([1.])\n",
      "tensor([0.0009], grad_fn=<AddBackward0>) tensor([0.])\n",
      "loss: 0.6936; is_sta: tensor([0.])\n",
      "tensor([0.0010], grad_fn=<AddBackward0>) tensor([1.])\n",
      "loss: 0.6927; is_sta: tensor([1.])\n",
      "tensor([0.0011], grad_fn=<AddBackward0>) tensor([0.])\n",
      "loss: 0.6937; is_sta: tensor([0.])\n",
      "tensor([0.0012], grad_fn=<AddBackward0>) tensor([1.])\n",
      "loss: 0.6926; is_sta: tensor([1.])\n",
      "tensor([0.0011], grad_fn=<AddBackward0>) tensor([0.])\n",
      "loss: 0.6937; is_sta: tensor([0.])\n",
      "tensor([0.0011], grad_fn=<AddBackward0>) tensor([1.])\n",
      "loss: 0.6926; is_sta: tensor([1.])\n",
      "tensor([0.0010], grad_fn=<AddBackward0>) tensor([0.])\n",
      "loss: 0.6936; is_sta: tensor([0.])\n",
      "tensor([0.0010], grad_fn=<AddBackward0>) tensor([1.])\n",
      "loss: 0.6927; is_sta: tensor([1.])\n",
      "tensor([0.0012], grad_fn=<AddBackward0>) tensor([0.])\n",
      "loss: 0.6937; is_sta: tensor([0.])\n",
      "tensor([0.0012], grad_fn=<AddBackward0>) tensor([1.])\n",
      "loss: 0.6926; is_sta: tensor([1.])\n",
      "tensor([0.0011], grad_fn=<AddBackward0>) tensor([0.])\n",
      "loss: 0.6937; is_sta: tensor([0.])\n",
      "tensor([0.0011], grad_fn=<AddBackward0>) tensor([1.])\n",
      "loss: 0.6926; is_sta: tensor([1.])\n",
      "tensor([0.0010], grad_fn=<AddBackward0>) tensor([0.])\n",
      "loss: 0.6936; is_sta: tensor([0.])\n"
     ]
    }
   ],
   "source": [
    "n.train()\n",
    "losses = []\n",
    "loss_fn = torch.nn.BCELoss()\n",
    "for _ in range(1):\n",
    "    for prob, target in dl:\n",
    "        optim.zero_grad()\n",
    "        outputs = n(prob[0].float())\n",
    "        torch.nn.utils.clip_grad_norm_(n.parameters(), 0.5)\n",
    "        loss = compute_loss(outputs, target[0], n.parameters())\n",
    "        print(outputs, target[0])\n",
    "#         loss = loss_fn(outputs, target[0])\n",
    "        desc = 'loss: %.4f; is_sta: %s' % (loss.item(), target[0])\n",
    "        losses.append(loss.item())\n",
    "        print(desc)\n",
    "\n",
    "        loss.backward()\n",
    "        optim.step()"
   ]
  },
  {
   "cell_type": "code",
   "execution_count": null,
   "metadata": {},
   "outputs": [],
   "source": [
    "for _ in range(1):\n",
    "    for prob, target in dl:\n",
    "        optim.zero_grad()\n",
    "        outputs = n(prob[0].float())\n",
    "    #     print(outputs, prob[1])\n",
    "        torch.nn.utils.clip_grad_norm_(n.parameters(), 0.5)\n",
    "#         loss = compute_loss(outputs, target[0], n.parameters())\n",
    "        print(outputs, target[0])\n",
    "        loss = loss_fn(outputs, target[0])\n",
    "        desc = 'loss: %.4f; ' % (loss.item())\n",
    "        losses.append(loss.item())\n",
    "        print(desc)\n",
    "\n",
    "        loss.backward()\n",
    "        optim.step()"
   ]
  },
  {
   "cell_type": "code",
   "execution_count": null,
   "metadata": {},
   "outputs": [],
   "source": [
    "import matplotlib.pyplot as plt"
   ]
  },
  {
   "cell_type": "code",
   "execution_count": null,
   "metadata": {},
   "outputs": [],
   "source": [
    "plt.plot([i for i in range(len(losses))], losses)"
   ]
  },
  {
   "cell_type": "code",
   "execution_count": null,
   "metadata": {},
   "outputs": [],
   "source": []
  },
  {
   "cell_type": "code",
   "execution_count": null,
   "metadata": {},
   "outputs": [],
   "source": []
  }
 ],
 "metadata": {
  "kernelspec": {
   "display_name": "Python 3",
   "language": "python",
   "name": "python3"
  },
  "language_info": {
   "codemirror_mode": {
    "name": "ipython",
    "version": 3
   },
   "file_extension": ".py",
   "mimetype": "text/x-python",
   "name": "python",
   "nbconvert_exporter": "python",
   "pygments_lexer": "ipython3",
   "version": "3.6.12"
  }
 },
 "nbformat": 4,
 "nbformat_minor": 4
}
