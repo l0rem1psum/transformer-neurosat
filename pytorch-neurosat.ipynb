{
 "cells": [
  {
   "cell_type": "code",
   "execution_count": 1,
   "metadata": {},
   "outputs": [],
   "source": [
    "import torch\n",
    "import math\n",
    "from dataset import SatProblemDataSet\n",
    "from models import MLP, LayerNormBasicLSTMCell, NeuroSAT\n",
    "#torch.set_default_tensor_type('torch.cuda.FloatTensor')"
   ]
  },
  {
   "cell_type": "code",
   "execution_count": 2,
   "metadata": {},
   "outputs": [],
   "source": [
    "def compute_loss(logits, labels, parameters):\n",
    "    # x = logits, z = labels\n",
    "    # max(x, 0) - x * z + log(1 + exp(-abs(x)))\n",
    "    predict_costs = torch.nn.functional.relu(logits) - logits * labels + torch.log1p(torch.exp(-torch.abs(logits)))\n",
    "    predict_cost = torch.mean(predict_costs)\n",
    "    l2_cost = torch.zeros([])\n",
    "    for p in parameters:\n",
    "        l2_cost += torch.sum(torch.square(p)) / 2\n",
    "    return predict_cost + 1e-9 * l2_cost"
   ]
  },
  {
   "cell_type": "code",
   "execution_count": 3,
   "metadata": {},
   "outputs": [],
   "source": [
    "n = NeuroSAT(5, 3, 3, 128)"
   ]
  },
  {
   "cell_type": "code",
   "execution_count": 4,
   "metadata": {},
   "outputs": [],
   "source": [
    "ds = SatProblemDataSet(\"data\")\n",
    "dl = torch.utils.data.DataLoader(ds)"
   ]
  },
  {
   "cell_type": "code",
   "execution_count": 5,
   "metadata": {
    "scrolled": true
   },
   "outputs": [
    {
     "data": {
      "text/plain": [
       "NeuroSAT(\n",
       "  (LC_msg): MLP(\n",
       "    (linears): ModuleList(\n",
       "      (0): Linear(in_features=5, out_features=5, bias=True)\n",
       "      (1): Linear(in_features=5, out_features=5, bias=True)\n",
       "      (2): Linear(in_features=5, out_features=5, bias=True)\n",
       "      (3): Linear(in_features=5, out_features=5, bias=True)\n",
       "    )\n",
       "    (activation_func): ReLU()\n",
       "  )\n",
       "  (CL_msg): MLP(\n",
       "    (linears): ModuleList(\n",
       "      (0): Linear(in_features=5, out_features=5, bias=True)\n",
       "      (1): Linear(in_features=5, out_features=5, bias=True)\n",
       "      (2): Linear(in_features=5, out_features=5, bias=True)\n",
       "      (3): Linear(in_features=5, out_features=5, bias=True)\n",
       "    )\n",
       "    (activation_func): ReLU()\n",
       "  )\n",
       "  (L_update): LayerNormBasicLSTMCell(\n",
       "    (fiou_linear): Linear(in_features=15, out_features=20, bias=False)\n",
       "    (fiou_ln_layers): ModuleList(\n",
       "      (0): LayerNorm((5,), eps=1e-05, elementwise_affine=True)\n",
       "      (1): LayerNorm((5,), eps=1e-05, elementwise_affine=True)\n",
       "      (2): LayerNorm((5,), eps=1e-05, elementwise_affine=True)\n",
       "      (3): LayerNorm((5,), eps=1e-05, elementwise_affine=True)\n",
       "    )\n",
       "    (cell_ln): LayerNorm((5,), eps=1e-05, elementwise_affine=True)\n",
       "  )\n",
       "  (C_update): LayerNormBasicLSTMCell(\n",
       "    (fiou_linear): Linear(in_features=10, out_features=20, bias=False)\n",
       "    (fiou_ln_layers): ModuleList(\n",
       "      (0): LayerNorm((5,), eps=1e-05, elementwise_affine=True)\n",
       "      (1): LayerNorm((5,), eps=1e-05, elementwise_affine=True)\n",
       "      (2): LayerNorm((5,), eps=1e-05, elementwise_affine=True)\n",
       "      (3): LayerNorm((5,), eps=1e-05, elementwise_affine=True)\n",
       "    )\n",
       "    (cell_ln): LayerNorm((5,), eps=1e-05, elementwise_affine=True)\n",
       "  )\n",
       "  (L_vote): MLP(\n",
       "    (linears): ModuleList(\n",
       "      (0): Linear(in_features=5, out_features=5, bias=True)\n",
       "      (1): Linear(in_features=5, out_features=5, bias=True)\n",
       "      (2): Linear(in_features=5, out_features=5, bias=True)\n",
       "      (3): Linear(in_features=5, out_features=1, bias=True)\n",
       "    )\n",
       "    (activation_func): ReLU()\n",
       "  )\n",
       ")"
      ]
     },
     "execution_count": 5,
     "metadata": {},
     "output_type": "execute_result"
    }
   ],
   "source": [
    "optim = torch.optim.Adam(n.parameters(), lr = 1e-4, weight_decay = 1e-10)\n",
    "n.train()"
   ]
  },
  {
   "cell_type": "code",
   "execution_count": 9,
   "metadata": {
    "scrolled": true
   },
   "outputs": [
    {
     "name": "stdout",
     "output_type": "stream",
     "text": [
      "torch.DoubleTensor\n",
      "<class 'list'>\n"
     ]
    },
    {
     "ename": "TypeError",
     "evalue": "only integer tensors of a single element can be converted to an index",
     "output_type": "error",
     "traceback": [
      "\u001b[0;31m---------------------------------------------------------------------------\u001b[0m",
      "\u001b[0;31mTypeError\u001b[0m                                 Traceback (most recent call last)",
      "\u001b[0;32m<ipython-input-9-6e7ba8dadf43>\u001b[0m in \u001b[0;36m<module>\u001b[0;34m\u001b[0m\n\u001b[1;32m      7\u001b[0m     \u001b[0;31m#     print(outputs, prob[1])\u001b[0m\u001b[0;34m\u001b[0m\u001b[0;34m\u001b[0m\u001b[0;34m\u001b[0m\u001b[0m\n\u001b[1;32m      8\u001b[0m         \u001b[0mtorch\u001b[0m\u001b[0;34m.\u001b[0m\u001b[0mnn\u001b[0m\u001b[0;34m.\u001b[0m\u001b[0mutils\u001b[0m\u001b[0;34m.\u001b[0m\u001b[0mclip_grad_norm_\u001b[0m\u001b[0;34m(\u001b[0m\u001b[0mn\u001b[0m\u001b[0;34m.\u001b[0m\u001b[0mparameters\u001b[0m\u001b[0;34m(\u001b[0m\u001b[0;34m)\u001b[0m\u001b[0;34m,\u001b[0m \u001b[0;36m0.5\u001b[0m\u001b[0;34m)\u001b[0m\u001b[0;34m\u001b[0m\u001b[0;34m\u001b[0m\u001b[0m\n\u001b[0;32m----> 9\u001b[0;31m         \u001b[0mloss\u001b[0m \u001b[0;34m=\u001b[0m \u001b[0mcompute_loss\u001b[0m\u001b[0;34m(\u001b[0m\u001b[0moutputs\u001b[0m\u001b[0;34m,\u001b[0m \u001b[0mtarget\u001b[0m\u001b[0;34m,\u001b[0m \u001b[0mn\u001b[0m\u001b[0;34m.\u001b[0m\u001b[0mparameters\u001b[0m\u001b[0;34m(\u001b[0m\u001b[0;34m)\u001b[0m\u001b[0;34m)\u001b[0m\u001b[0;34m\u001b[0m\u001b[0;34m\u001b[0m\u001b[0m\n\u001b[0m\u001b[1;32m     10\u001b[0m         \u001b[0mdesc\u001b[0m \u001b[0;34m=\u001b[0m \u001b[0;34m'loss: %.4f; '\u001b[0m \u001b[0;34m%\u001b[0m \u001b[0;34m(\u001b[0m\u001b[0mloss\u001b[0m\u001b[0;34m.\u001b[0m\u001b[0mitem\u001b[0m\u001b[0;34m(\u001b[0m\u001b[0;34m)\u001b[0m\u001b[0;34m)\u001b[0m\u001b[0;34m\u001b[0m\u001b[0;34m\u001b[0m\u001b[0m\n\u001b[1;32m     11\u001b[0m         \u001b[0mprint\u001b[0m\u001b[0;34m(\u001b[0m\u001b[0mdesc\u001b[0m\u001b[0;34m)\u001b[0m\u001b[0;34m\u001b[0m\u001b[0;34m\u001b[0m\u001b[0m\n",
      "\u001b[0;32m<ipython-input-2-f5fc701c95a6>\u001b[0m in \u001b[0;36mcompute_loss\u001b[0;34m(logits, labels, parameters)\u001b[0m\n\u001b[1;32m      2\u001b[0m     \u001b[0;31m# x = logits, z = labels\u001b[0m\u001b[0;34m\u001b[0m\u001b[0;34m\u001b[0m\u001b[0;34m\u001b[0m\u001b[0m\n\u001b[1;32m      3\u001b[0m     \u001b[0;31m# max(x, 0) - x * z + log(1 + exp(-abs(x)))\u001b[0m\u001b[0;34m\u001b[0m\u001b[0;34m\u001b[0m\u001b[0;34m\u001b[0m\u001b[0m\n\u001b[0;32m----> 4\u001b[0;31m     \u001b[0mpredict_costs\u001b[0m \u001b[0;34m=\u001b[0m \u001b[0mtorch\u001b[0m\u001b[0;34m.\u001b[0m\u001b[0mnn\u001b[0m\u001b[0;34m.\u001b[0m\u001b[0mfunctional\u001b[0m\u001b[0;34m.\u001b[0m\u001b[0mrelu\u001b[0m\u001b[0;34m(\u001b[0m\u001b[0mlogits\u001b[0m\u001b[0;34m)\u001b[0m \u001b[0;34m-\u001b[0m \u001b[0mlogits\u001b[0m \u001b[0;34m*\u001b[0m \u001b[0mlabels\u001b[0m \u001b[0;34m+\u001b[0m \u001b[0mtorch\u001b[0m\u001b[0;34m.\u001b[0m\u001b[0mlog1p\u001b[0m\u001b[0;34m(\u001b[0m\u001b[0mtorch\u001b[0m\u001b[0;34m.\u001b[0m\u001b[0mexp\u001b[0m\u001b[0;34m(\u001b[0m\u001b[0;34m-\u001b[0m\u001b[0mtorch\u001b[0m\u001b[0;34m.\u001b[0m\u001b[0mabs\u001b[0m\u001b[0;34m(\u001b[0m\u001b[0mlogits\u001b[0m\u001b[0;34m)\u001b[0m\u001b[0;34m)\u001b[0m\u001b[0;34m)\u001b[0m\u001b[0;34m\u001b[0m\u001b[0;34m\u001b[0m\u001b[0m\n\u001b[0m\u001b[1;32m      5\u001b[0m     \u001b[0mpredict_cost\u001b[0m \u001b[0;34m=\u001b[0m \u001b[0mtorch\u001b[0m\u001b[0;34m.\u001b[0m\u001b[0mmean\u001b[0m\u001b[0;34m(\u001b[0m\u001b[0mpredict_costs\u001b[0m\u001b[0;34m)\u001b[0m\u001b[0;34m\u001b[0m\u001b[0;34m\u001b[0m\u001b[0m\n\u001b[1;32m      6\u001b[0m     \u001b[0ml2_cost\u001b[0m \u001b[0;34m=\u001b[0m \u001b[0mtorch\u001b[0m\u001b[0;34m.\u001b[0m\u001b[0mzeros\u001b[0m\u001b[0;34m(\u001b[0m\u001b[0;34m[\u001b[0m\u001b[0;34m]\u001b[0m\u001b[0;34m)\u001b[0m\u001b[0;34m\u001b[0m\u001b[0;34m\u001b[0m\u001b[0m\n",
      "\u001b[0;31mTypeError\u001b[0m: only integer tensors of a single element can be converted to an index"
     ]
    }
   ],
   "source": [
    "for _ in range(1):\n",
    "    for prob, target in dl:\n",
    "        print(prob.type())\n",
    "        print(type(target))\n",
    "        optim.zero_grad()\n",
    "        outputs = n(prob[0].float())\n",
    "    #     print(outputs, prob[1])\n",
    "        torch.nn.utils.clip_grad_norm_(n.parameters(), 0.5)\n",
    "        loss = compute_loss(outputs, target[0], n.parameters())\n",
    "        desc = 'loss: %.4f; ' % (loss.item())\n",
    "        print(desc)\n",
    "\n",
    "        loss.backward()\n",
    "        optim.step()"
   ]
  },
  {
   "cell_type": "code",
   "execution_count": null,
   "metadata": {},
   "outputs": [],
   "source": []
  }
 ],
 "metadata": {
  "kernelspec": {
   "display_name": "Python 3",
   "language": "python",
   "name": "python3"
  },
  "language_info": {
   "codemirror_mode": {
    "name": "ipython",
    "version": 3
   },
   "file_extension": ".py",
   "mimetype": "text/x-python",
   "name": "python",
   "nbconvert_exporter": "python",
   "pygments_lexer": "ipython3",
   "version": "3.6.12"
  }
 },
 "nbformat": 4,
 "nbformat_minor": 4
}
